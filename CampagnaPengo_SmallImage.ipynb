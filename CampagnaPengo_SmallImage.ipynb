{
 "cells": [
  {
   "cell_type": "markdown",
   "id": "2c4d4493",
   "metadata": {},
   "source": [
    "# Finding explicitly a CM elliptic curve with small Galois image\n",
    "\n",
    "### Authors:\n",
    "\n",
    "Francesco Campagna and Riccardo Pengo\n",
    "\n",
    "### Abstract:\n",
    "\n",
    "This file accompanies Section 5 of our paper \"How big is the image of a Galois representation attached to a CM elliptic curve?\".\n",
    "\n",
    "Our aim is to apply the algorithm provided by the proof of Theorem 5.11 of our previous paper: \"[Entanglement in the family of division fields of elliptic curves with complex multiplication](https://arxiv.org/abs/2006.00883)\" in order to obtain an elliptic curve $E$ defined over the Hilbert class field $H := \\mathbb{Q}(i,\\sqrt{5})$ of the imaginary quadratic field $K := \\mathbb{Q}(\\sqrt{-5})$, such that $\\operatorname{End}_H(E) \\cong \\mathcal{O}_K := \\mathbb{Z}[\\sqrt{-5}]$ and the image of the adelic Galois representation $\\rho_E \\colon \\operatorname{Gal}(\\overline{H}/H) \\to \\operatorname{Aut}_H(E_\\text{tors}) \\cong \\widehat{\\mathcal{O}_K}^\\times$ has index $2$ inside $\\widehat{\\mathcal{O}_K}^\\times$."
   ]
  },
  {
   "cell_type": "markdown",
   "id": "95f741be",
   "metadata": {},
   "source": [
    "---\n",
    "Initialize the fields and the $j$-invariant to be used\n",
    "***"
   ]
  },
  {
   "cell_type": "code",
   "execution_count": 1,
   "id": "94498958",
   "metadata": {},
   "outputs": [],
   "source": [
    "K.<D> = NumberField(x^2+5) # Imaginary quadratic field K\n",
    "F.<i> = K.extension(x^2+1) # Hilbert class field F = H_O\n",
    "H3.<h3> = F.extension(x^2+3) # 3-ray class field of K"
   ]
  },
  {
   "cell_type": "code",
   "execution_count": 2,
   "id": "c92b09dd",
   "metadata": {},
   "outputs": [
    {
     "data": {
      "text/plain": [
       "(x + 282880*D*i - 632000) * (x - 282880*D*i - 632000)"
      ]
     },
     "execution_count": 2,
     "metadata": {},
     "output_type": "execute_result"
    }
   ],
   "source": [
    "hilbert_class_polynomial(-20).base_extend(F).factor()"
   ]
  },
  {
   "cell_type": "code",
   "execution_count": 3,
   "id": "0ba8efdf",
   "metadata": {},
   "outputs": [],
   "source": [
    "j = 282880*D*i + 632000 # j-invariant"
   ]
  },
  {
   "cell_type": "markdown",
   "id": "304f0d38",
   "metadata": {},
   "source": [
    "***\n",
    "Create the elliptic curve $E$, and compute its conductor\n",
    "***"
   ]
  },
  {
   "cell_type": "code",
   "execution_count": 5,
   "id": "53237132",
   "metadata": {},
   "outputs": [
    {
     "name": "stdout",
     "output_type": "stream",
     "text": [
      "Elliptic Curve defined by y^2 = x^3 + (-1071214510080*D*i-2395312128000)*x + (-901828270977187840*D*i-2016549312397312000) over Number Field in i with defining polynomial x^2 + 1 over its base field\n"
     ]
    }
   ],
   "source": [
    "E = EllipticCurve_from_j(j,False)\n",
    "print(E)"
   ]
  },
  {
   "cell_type": "code",
   "execution_count": 6,
   "id": "0cc9f9bf",
   "metadata": {},
   "outputs": [
    {
     "data": {
      "text/plain": [
       "2^16 * 3^8 * 5^4 * 11^8 * 19^4"
      ]
     },
     "execution_count": 6,
     "metadata": {},
     "output_type": "execute_result"
    }
   ],
   "source": [
    "E.conductor().absolute_norm().factor()"
   ]
  },
  {
   "cell_type": "code",
   "execution_count": 7,
   "id": "064bd048",
   "metadata": {},
   "outputs": [
    {
     "data": {
      "text/plain": [
       "2^16 * 5^4 * 11^8 * 19^4"
      ]
     },
     "execution_count": 7,
     "metadata": {},
     "output_type": "execute_result"
    }
   ],
   "source": [
    "(E.conductor()/9).absolute_norm().factor()"
   ]
  },
  {
   "cell_type": "markdown",
   "id": "051f3c0e",
   "metadata": {},
   "source": [
    "***\n",
    "Find the endomorphism $E \\to E$ corresponding to multiplication by $D = \\sqrt{-5}$.\n",
    "***"
   ]
  },
  {
   "cell_type": "code",
   "execution_count": 8,
   "id": "7f9f9d6a",
   "metadata": {},
   "outputs": [
    {
     "data": {
      "text/plain": [
       "[Isogeny of degree 5 from Elliptic Curve defined by y^2 = x^3 + (-1071214510080*D*i-2395312128000)*x + (-901828270977187840*D*i-2016549312397312000) over Number Field in i with defining polynomial x^2 + 1 over its base field to Elliptic Curve defined by y^2 = x^3 + (-161535/2*D*i+626175/2)*x + (-127642900*i-65378720*D) over Number Field in i with defining polynomial x^2 + 1 over its base field]"
      ]
     },
     "execution_count": 8,
     "metadata": {},
     "output_type": "execute_result"
    }
   ],
   "source": [
    "E.isogenies_prime_degree(5)"
   ]
  },
  {
   "cell_type": "code",
   "execution_count": 9,
   "id": "7f3bb419",
   "metadata": {},
   "outputs": [],
   "source": [
    "isog = E.isogenies_prime_degree(5)[0]"
   ]
  },
  {
   "cell_type": "code",
   "execution_count": 10,
   "id": "972246a7",
   "metadata": {},
   "outputs": [],
   "source": [
    "# Modify codomain by isomorphism, to get back to E\n",
    "isog.set_post_isomorphism((isog.codomain()).isomorphisms(E)[1])"
   ]
  },
  {
   "cell_type": "code",
   "execution_count": 11,
   "id": "4359ea8e",
   "metadata": {},
   "outputs": [
    {
     "data": {
      "text/plain": [
       "True"
      ]
     },
     "execution_count": 11,
     "metadata": {},
     "output_type": "execute_result"
    }
   ],
   "source": [
    "isog.is_endomorphism()"
   ]
  },
  {
   "cell_type": "code",
   "execution_count": 12,
   "id": "9304e7db",
   "metadata": {},
   "outputs": [
    {
     "data": {
      "text/plain": [
       "D*t + (-51418296483840*i + 22994996428800*D)*t^5 + (243493633163840716800*i - 108893662869454848000*D)*t^7 + O(t^8)"
      ]
     },
     "execution_count": 12,
     "metadata": {},
     "output_type": "execute_result"
    }
   ],
   "source": [
    "# Checking that this isogeny is indeed multiplication by D,  \n",
    "# and not by -D, using its formal expansion\n",
    "isog.formal(prec=5)"
   ]
  },
  {
   "cell_type": "markdown",
   "id": "7ce42e25",
   "metadata": {},
   "source": [
    "***\n",
    "Verify that the roots of the quadratic factor of the $3$-division polynomial of $E$ generate the $3$-ray class field $H_{3} := H(\\sqrt{-3})$ of $K$.\n",
    "***"
   ]
  },
  {
   "cell_type": "code",
   "execution_count": 13,
   "id": "24483626",
   "metadata": {},
   "outputs": [
    {
     "data": {
      "text/plain": [
       "(3) * (x + (266816*D + 59840)*i - 26048*D + 594880) * (x + (266816*D - 59840)*i + 26048*D + 594880) * (x^2 + (-533632*D*i - 1189760)*x - 1193205432320*D*i - 2668089262080)"
      ]
     },
     "execution_count": 13,
     "metadata": {},
     "output_type": "execute_result"
    }
   ],
   "source": [
    "E.division_polynomial(3).factor()"
   ]
  },
  {
   "cell_type": "code",
   "execution_count": 14,
   "id": "88f12d4e",
   "metadata": {},
   "outputs": [],
   "source": [
    "H3new.<h3new> = F.extension(E.division_polynomial(3).factor()[-1][0])"
   ]
  },
  {
   "cell_type": "code",
   "execution_count": 15,
   "id": "1827505b",
   "metadata": {},
   "outputs": [
    {
     "data": {
      "text/plain": [
       "True"
      ]
     },
     "execution_count": 15,
     "metadata": {},
     "output_type": "execute_result"
    }
   ],
   "source": [
    "H3new.is_isomorphic(H3)"
   ]
  },
  {
   "cell_type": "markdown",
   "id": "428aa7e8",
   "metadata": {},
   "source": [
    "***\n",
    "Find which prime ideal lying above $3$ corresponds to a given $x$-coordinate already lying in $F = H_K$.\n",
    "***"
   ]
  },
  {
   "cell_type": "code",
   "execution_count": 16,
   "id": "8fa351e5",
   "metadata": {},
   "outputs": [
    {
     "name": "stdout",
     "output_type": "stream",
     "text": [
      "(-266816*D - 59840)*i + 26048*D - 594880\n"
     ]
    }
   ],
   "source": [
    "# Pick a x-coordinate of 3-torsion points which lies in F\n",
    "x3 = E.division_polynomial(3).factor()[0][0].roots()[0][0]\n",
    "print(x3)"
   ]
  },
  {
   "cell_type": "code",
   "execution_count": 17,
   "id": "0f58fca0",
   "metadata": {},
   "outputs": [
    {
     "name": "stdout",
     "output_type": "stream",
     "text": [
      "Number Field in fp3 with defining polynomial x^2 + (-7430172301066240*D - 32211081415884800)*i + 14405235575357440*D - 16614361504153600 over its base field\n"
     ]
    }
   ],
   "source": [
    "# Substitute x3 in the Weierstrass polynomial of E, \n",
    "# and get the corresponding quadratic extension Fp3\n",
    "R.<x,y,z> = PolynomialRing(F)\n",
    "W = E.defining_polynomial() # Weierstrass equation\n",
    "Fp3.<fp3> = F.extension((W.subs({x:x3,y:x,z:1})).univariate_polynomial()) \n",
    "print(Fp3)"
   ]
  },
  {
   "cell_type": "code",
   "execution_count": 18,
   "id": "d88f4961",
   "metadata": {},
   "outputs": [],
   "source": [
    "# Base-changing E to Fp3\n",
    "E1 = E.base_extend(Fp3)"
   ]
  },
  {
   "cell_type": "code",
   "execution_count": 19,
   "id": "3ad5dddb",
   "metadata": {},
   "outputs": [],
   "source": [
    "# Base-changing isog to E1\n",
    "isog1 = E1.isogeny(isog.kernel_polynomial())\n",
    "isog1.set_post_isomorphism((isog1.codomain()).isomorphisms(E1)[1])"
   ]
  },
  {
   "cell_type": "code",
   "execution_count": 20,
   "id": "a42dd750",
   "metadata": {},
   "outputs": [
    {
     "data": {
      "text/plain": [
       "True"
      ]
     },
     "execution_count": 20,
     "metadata": {},
     "output_type": "execute_result"
    }
   ],
   "source": [
    "# Check that isog1 is indeed an endomorphism\n",
    "isog1.is_endomorphism()"
   ]
  },
  {
   "cell_type": "code",
   "execution_count": 21,
   "id": "b7c58006",
   "metadata": {},
   "outputs": [
    {
     "data": {
      "text/plain": [
       "D*t + (-51418296483840*i + 22994996428800*D)*t^5 + (243493633163840716800*i - 108893662869454848000*D)*t^7 + O(t^8)"
      ]
     },
     "execution_count": 21,
     "metadata": {},
     "output_type": "execute_result"
    }
   ],
   "source": [
    "# Check that isog1 is indeed multiplication by D\n",
    "isog1.formal(prec=5)"
   ]
  },
  {
   "cell_type": "code",
   "execution_count": 22,
   "id": "9a9a527a",
   "metadata": {},
   "outputs": [
    {
     "data": {
      "text/plain": [
       "(Fractional ideal (3, D + 1)) * (Fractional ideal (3, D + 2))"
      ]
     },
     "execution_count": 22,
     "metadata": {},
     "output_type": "execute_result"
    }
   ],
   "source": [
    "# Let's find the primes of K lying above 3\n",
    "K.factor(3)"
   ]
  },
  {
   "cell_type": "code",
   "execution_count": 23,
   "id": "50d53fb4",
   "metadata": {},
   "outputs": [
    {
     "name": "stdout",
     "output_type": "stream",
     "text": [
      "True\n",
      "True\n",
      "True\n"
     ]
    }
   ],
   "source": [
    "# The computation above shows that we only need to check whether\n",
    "# it's D+1 or D-1 to kill the 3-torsion points of E defined over Fp3\n",
    "T = E1.torsion_points()\n",
    "for P in T:\n",
    "    if (3*P == 0):\n",
    "        print(isog1(P) + P == 0)"
   ]
  },
  {
   "cell_type": "code",
   "execution_count": 24,
   "id": "942db6b9",
   "metadata": {},
   "outputs": [
    {
     "name": "stdout",
     "output_type": "stream",
     "text": [
      "Fractional ideal (3, D + 1)\n"
     ]
    }
   ],
   "source": [
    "# Looking at the previous computation, we can define p3...\n",
    "p3 = K.factor(3)[0][0]\n",
    "print(p3)"
   ]
  },
  {
   "cell_type": "markdown",
   "id": "3072ca4e",
   "metadata": {},
   "source": [
    "***\n",
    "Twist $E$ by $F_{\\mathfrak{p}_3}$ to get a curve $E_0$ with $\\mathcal{I}(E_0/F) = 2$\n",
    "***"
   ]
  },
  {
   "cell_type": "code",
   "execution_count": 25,
   "id": "4f3983df",
   "metadata": {},
   "outputs": [
    {
     "name": "stdout",
     "output_type": "stream",
     "text": [
      "(7430172301066240*D + 32211081415884800)*i - 14405235575357440*D + 16614361504153600\n"
     ]
    }
   ],
   "source": [
    "# Find generator alpha of Fp3. \n",
    "# Recall that alpha is the square of the y-coordinates of [p3]-torsion points.\n",
    "alpha = -(Fp3.defining_polynomial())(0)\n",
    "print(alpha)"
   ]
  },
  {
   "cell_type": "code",
   "execution_count": 26,
   "id": "57ae8f47",
   "metadata": {
    "scrolled": true
   },
   "outputs": [
    {
     "name": "stdout",
     "output_type": "stream",
     "text": [
      "Elliptic Curve defined by y^2 = x^3 + ((52207899179985268313321375501520714124492800000*D-164081968851382271841867180147636530105548800000)*i+73379687246738769527795236613492765601300480000*D+116740411528902587885128785521465763456614400000)*x + ((21761029610487216150878700516481273153405898873337187319502864384000000*D+6965444702618673582183451196371973176047292050344304524560171008000000)*i-3115041569714232306522593359440267692358065490281406261763244032000000*D+48659141469435185785433507129254555720355908378099412076259704832000000) over Number Field in i with defining polynomial x^2 + 1 over its base field\n"
     ]
    }
   ],
   "source": [
    "# Twist E by Fp3\n",
    "E0 = E.quadratic_twist(alpha)\n",
    "print(E0)"
   ]
  },
  {
   "cell_type": "code",
   "execution_count": 27,
   "id": "d95ddfb4",
   "metadata": {},
   "outputs": [
    {
     "data": {
      "text/plain": [
       "True"
      ]
     },
     "execution_count": 27,
     "metadata": {},
     "output_type": "execute_result"
    }
   ],
   "source": [
    "E0.base_extend(Fp3).is_isomorphic(E.base_extend(Fp3))"
   ]
  },
  {
   "cell_type": "markdown",
   "id": "5b22a4f5",
   "metadata": {},
   "source": [
    "***\n",
    "Compute the global minimal model and the conductor of $E_0$.\n",
    "***"
   ]
  },
  {
   "cell_type": "code",
   "execution_count": 28,
   "id": "661d7a91",
   "metadata": {},
   "outputs": [
    {
     "data": {
      "text/plain": [
       "Elliptic Curve defined by y^2 + ((-1/2*D+1/2)*i-1/2*D-1/2)*x*y + ((-1/2*D-1/2)*i-1/2*D-1/2)*y = x^3 + x^2 + ((-D+2)*i)*x + (2*i-1) over Number Field in i with defining polynomial x^2 + 1 over its base field"
      ]
     },
     "execution_count": 28,
     "metadata": {},
     "output_type": "execute_result"
    }
   ],
   "source": [
    "E0.global_minimal_model()"
   ]
  },
  {
   "cell_type": "code",
   "execution_count": 34,
   "id": "ece794ea",
   "metadata": {},
   "outputs": [
    {
     "data": {
      "text/plain": [
       "(Fractional ideal ((-1/2*D - 1/2)*i + 1/2*D + 1/2))^2"
      ]
     },
     "execution_count": 34,
     "metadata": {},
     "output_type": "execute_result"
    }
   ],
   "source": [
    "E0.conductor().factor()"
   ]
  },
  {
   "cell_type": "code",
   "execution_count": 35,
   "id": "ef6735a5",
   "metadata": {},
   "outputs": [
    {
     "data": {
      "text/plain": [
       "(Fractional ideal (3, D + 1))^4"
      ]
     },
     "execution_count": 35,
     "metadata": {},
     "output_type": "execute_result"
    }
   ],
   "source": [
    "# This shows that the unique prime of K dividing \n",
    "# the conductor of E0 is p3\n",
    "E0.conductor().relative_norm().factor()"
   ]
  },
  {
   "cell_type": "markdown",
   "id": "6f6893c6",
   "metadata": {},
   "source": [
    "***\n",
    "We observe that, in the extension $F \\subseteq F_{\\mathfrak{p}_3}$, the unique prime ideal lying above $\\overline{\\mathfrak{p}}_3$ ramifies. This is possible since $9 \\mid \\mathfrak{f}_E$.\n",
    "Indeed, if $3 \\nmid \\operatorname{N}_{F/\\mathbb{Q}}(\\mathfrak{f}_E)$, then the primes lying above $3$ which ramify in $F \\subseteq F(E[\\mathfrak{p}_3])$ are precisely those lying above $\\mathfrak{p}_3$.\n",
    "***"
   ]
  },
  {
   "cell_type": "code",
   "execution_count": 36,
   "id": "fa6c7273",
   "metadata": {},
   "outputs": [
    {
     "data": {
      "text/plain": [
       "(Fractional ideal (-i + 1))^4 * (Fractional ideal ((-1/2*D + 1/2)*i + 1/2*D - 1/2)) * (Fractional ideal ((-1/2*D + 1)*i + 1/2)) * (Fractional ideal ((-1/2*D - 1)*i + 1/2)) * (Fractional ideal (3/2*D*i + 1/2)) * (Fractional ideal (-3/2*D*i + 1/2)) * (Fractional ideal (2*D*i + 1))"
      ]
     },
     "execution_count": 36,
     "metadata": {},
     "output_type": "execute_result"
    }
   ],
   "source": [
    "Fp3.relative_discriminant().factor()"
   ]
  },
  {
   "cell_type": "code",
   "execution_count": 37,
   "id": "49f4a4a8",
   "metadata": {},
   "outputs": [
    {
     "data": {
      "text/plain": [
       "(Fractional ideal (3, D + 2))^2"
      ]
     },
     "execution_count": 37,
     "metadata": {},
     "output_type": "execute_result"
    }
   ],
   "source": [
    "Fp3.relative_discriminant().factor()[1][0].relative_norm().factor()"
   ]
  },
  {
   "cell_type": "markdown",
   "id": "48d8b00d",
   "metadata": {},
   "source": [
    "***\n",
    "Find an equation of $E_0$ in terms of $D$ and $j$.\n",
    "***"
   ]
  },
  {
   "cell_type": "code",
   "execution_count": 38,
   "id": "8f285881",
   "metadata": {},
   "outputs": [],
   "source": [
    "F1.<f1> = K.extension(hilbert_class_polynomial(-20))"
   ]
  },
  {
   "cell_type": "code",
   "execution_count": 39,
   "id": "e17565f0",
   "metadata": {},
   "outputs": [
    {
     "name": "stdout",
     "output_type": "stream",
     "text": [
      "Elliptic Curve defined by y^2 + ((-1/2828800*D-1/565760)*f1-489/1768*D+1091/1768)*x*y + ((1/2828800*D-1/565760)*f1-1279/1768*D+1091/1768)*y = x^3 + x^2 + ((-1/707200*D-1/282880)*f1+395/442*D+1975/884)*x + (-1/707200*D*f1+395/442*D-1) over Number Field in f1 with defining polynomial x^2 - 1264000*x - 681472000 over its base field\n"
     ]
    }
   ],
   "source": [
    "E2 = E0.base_extend(F.embeddings(F1)[0])\n",
    "print(E2.global_minimal_model())"
   ]
  },
  {
   "cell_type": "markdown",
   "id": "209afeff",
   "metadata": {},
   "source": [
    "***\n",
    "Find the $3$-division fields of $E$ and $E_0$\n",
    "***"
   ]
  },
  {
   "cell_type": "code",
   "execution_count": 40,
   "id": "dcad6453",
   "metadata": {},
   "outputs": [],
   "source": [
    "# Convert the curves over a relative number field to curves over an absolute one\n",
    "Fabs.<m> = F.absolute_field()\n",
    "Eabs = E.base_extend(F.embeddings(Fabs)[0])\n",
    "E0abs = E0.base_extend(F.embeddings(Fabs)[0])"
   ]
  },
  {
   "cell_type": "code",
   "execution_count": 41,
   "id": "eb9fccd5",
   "metadata": {},
   "outputs": [
    {
     "name": "stdout",
     "output_type": "stream",
     "text": [
      "Number Field in f3 with defining polynomial x^16 + 9518080*x^15 - 132902297201541072*x^14 - 948455618065553906176000*x^13 + 14923398908018851986061413115495328*x^12 + 70926071870145768872946484376824449105920*x^11 - 697890466347008267369280072226549229863847649598464*x^10 - 1653553339692471636557401334391211307992188017544798208000*x^9 + 27602633897802378896379167035539388230203642539283374912580878385920*x^8 - 384003304131281023502049488020715836615744658371259961915960797626368000*x^7 + 978557960084328457568679237639851526560674899752843637007595590251838439571456*x^6 - 10191943589083787563169552644856812038233253607480478039437188745458614509759365120*x^5 + 14148176580048973006850272784628648955682591040879400518484497378878208646698392805941248*x^4 - 98176961853918208928166678454739084439342519178231237687862449323812546338703363216926310400*x^3 + 97062191388705158294015808757751838309602765995404939295420735499765825503970248073859334930628608*x^2 - 336826465232665360791986578783914802081117709252176379769156011825400847087956589228327508565588705280*x + 271527635136224279102078086775082859299799420659963685265628681358461493918833112002475635804601391901638656\n"
     ]
    }
   ],
   "source": [
    "F3.<f3> = Eabs.division_field(3)\n",
    "print(F3)"
   ]
  },
  {
   "cell_type": "code",
   "execution_count": 42,
   "id": "2cada07d",
   "metadata": {},
   "outputs": [
    {
     "name": "stdout",
     "output_type": "stream",
     "text": [
      "Number Field in f30 with defining polynomial x^8 - 633471860319914976870400*x^7 + 997544739529840399169021468339704072482324480000*x^6 + 284182789615514719740526716345678555426831493879572590995737411584000000*x^5 + 201252318236281341511491334349455439129651749250365631020008365883550548174559351983308800000000*x^4 - 49523867259084687154256079860493804252788586402771555168917745079164454896345883922487468242994462720000000000*x^3 + 3559792723150733351073963118632594905582180828887254962835704227024649380965880634523179304482296171454678433792000000000000*x^2 + 63131814358307916945761347337113990877343742514273297886697774022068668213322091777053505767107038899422420859719818988748800000000000000*x + 327045615826612168057016536130937608967789786723540504133464141358484898545714014480723202815341082626393695049574302827066808871157760000000000000000\n"
     ]
    }
   ],
   "source": [
    "F30.<f30> = E0abs.division_field(3)\n",
    "print(F30)"
   ]
  },
  {
   "cell_type": "code",
   "execution_count": 43,
   "id": "7047fde0",
   "metadata": {},
   "outputs": [
    {
     "data": {
      "text/plain": [
       "True"
      ]
     },
     "execution_count": 43,
     "metadata": {},
     "output_type": "execute_result"
    }
   ],
   "source": [
    "F30.is_isomorphic(H3)"
   ]
  },
  {
   "cell_type": "markdown",
   "id": "db517bee",
   "metadata": {},
   "source": [
    "***\n",
    "Just to be sure, we check that $F_{\\mathfrak{p}_3}$ is not an abelian extension of $K$.\n",
    "***"
   ]
  },
  {
   "cell_type": "code",
   "execution_count": 44,
   "id": "6cd42e05",
   "metadata": {},
   "outputs": [
    {
     "data": {
      "text/plain": [
       "False"
      ]
     },
     "execution_count": 44,
     "metadata": {},
     "output_type": "execute_result"
    }
   ],
   "source": [
    "Fp3rel.<fp3rel> = Fp3.relativize(K.embeddings(Fp3)[0])\n",
    "Fp3rel.is_galois_relative()"
   ]
  }
 ],
 "metadata": {
  "kernelspec": {
   "display_name": "SageMath 9.4",
   "language": "sage",
   "name": "sagemath"
  },
  "language_info": {
   "codemirror_mode": {
    "name": "ipython",
    "version": 3
   },
   "file_extension": ".py",
   "mimetype": "text/x-python",
   "name": "python",
   "nbconvert_exporter": "python",
   "pygments_lexer": "ipython3",
   "version": "3.9.7"
  }
 },
 "nbformat": 4,
 "nbformat_minor": 5
}
